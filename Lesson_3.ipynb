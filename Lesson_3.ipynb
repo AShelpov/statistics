{
 "cells": [
  {
   "cell_type": "code",
   "execution_count": 1,
   "metadata": {},
   "outputs": [],
   "source": [
    "import numpy as np"
   ]
  },
  {
   "cell_type": "markdown",
   "metadata": {},
   "source": [
    "## Задача 1\n",
    "\n",
    "Даны значения зарплат из выборки выпускников:\n",
    "\n",
    "100, 80, 75, 77, 89, 33, 45, 25, 65, 17, 30, 230, 24, 57, 55, 70, 75, 65, 84, 90, 150\n",
    "\n",
    "Используя только встроенные питоновские функции и структуры данных (т.е. без библиотек numpy, pandas и др.) посчитать среднее арифметическое, выборочную дисперсию, среднее квадратичное отклонение для данной выборки.\n",
    "\n",
    "Можно затем посчитать те же значения с использованием библиотек, чтобы проверить себя."
   ]
  },
  {
   "cell_type": "markdown",
   "metadata": {},
   "source": [
    "======================================================================================================================"
   ]
  },
  {
   "cell_type": "code",
   "execution_count": 2,
   "metadata": {},
   "outputs": [],
   "source": [
    "def my_mean(input: (list, tuple, set), ddof=0):\n",
    "    if isinstance(input, (list, tuple, set)):\n",
    "        my_sum = 0\n",
    "        for i in input:\n",
    "            my_sum += i\n",
    "        return my_sum / (len(input) - ddof)\n",
    "    else:\n",
    "        print(\"This is inappropriate input\")"
   ]
  },
  {
   "cell_type": "code",
   "execution_count": 14,
   "metadata": {},
   "outputs": [],
   "source": [
    "a = [100, 80, 75, 77, 89, 33, 45, 25, 65, 17, 30, 230, 24, 57, 55, 70, 75, 65, 84, 90, 150]"
   ]
  },
  {
   "cell_type": "code",
   "execution_count": 15,
   "metadata": {},
   "outputs": [
    {
     "data": {
      "text/plain": [
       "73.14285714285714"
      ]
     },
     "execution_count": 15,
     "metadata": {},
     "output_type": "execute_result"
    }
   ],
   "source": [
    "my_mean(a)"
   ]
  },
  {
   "cell_type": "code",
   "execution_count": 16,
   "metadata": {},
   "outputs": [
    {
     "data": {
      "text/plain": [
       "73.14285714285714"
      ]
     },
     "execution_count": 16,
     "metadata": {},
     "output_type": "execute_result"
    }
   ],
   "source": [
    "np.array(a).mean()"
   ]
  },
  {
   "cell_type": "code",
   "execution_count": 17,
   "metadata": {},
   "outputs": [],
   "source": [
    "def my_var(input: (list, tuple, set), ddof=0):\n",
    "    if isinstance(input, (list, tuple, set)):\n",
    "        sum_of_squares = [(i - my_mean(input, ddof=0)) ** 2 for i in input]\n",
    "        return my_mean(sum_of_squares, ddof)\n",
    "    else:\n",
    "        print(\"This is inappropriate input\")"
   ]
  },
  {
   "cell_type": "code",
   "execution_count": 18,
   "metadata": {},
   "outputs": [
    {
     "data": {
      "text/plain": [
       "2241.8285714285716"
      ]
     },
     "execution_count": 18,
     "metadata": {},
     "output_type": "execute_result"
    }
   ],
   "source": [
    "my_var(a, ddof=1)"
   ]
  },
  {
   "cell_type": "code",
   "execution_count": 19,
   "metadata": {},
   "outputs": [
    {
     "data": {
      "text/plain": [
       "2241.828571428571"
      ]
     },
     "execution_count": 19,
     "metadata": {},
     "output_type": "execute_result"
    }
   ],
   "source": [
    "np.array(a).var(ddof=1)"
   ]
  },
  {
   "cell_type": "code",
   "execution_count": 20,
   "metadata": {},
   "outputs": [],
   "source": [
    "def my_std(input: (list, tuple, set), ddof=0):\n",
    "    if isinstance(input, (list, tuple, set)):\n",
    "        return my_var(input, ddof) ** 0.5\n",
    "    else:\n",
    "        print(\"This is inappropriate input\")"
   ]
  },
  {
   "cell_type": "code",
   "execution_count": 21,
   "metadata": {},
   "outputs": [
    {
     "data": {
      "text/plain": [
       "47.34795213553139"
      ]
     },
     "execution_count": 21,
     "metadata": {},
     "output_type": "execute_result"
    }
   ],
   "source": [
    "my_std(a, ddof=1)"
   ]
  },
  {
   "cell_type": "code",
   "execution_count": 22,
   "metadata": {},
   "outputs": [
    {
     "data": {
      "text/plain": [
       "47.347952135531386"
      ]
     },
     "execution_count": 22,
     "metadata": {},
     "output_type": "execute_result"
    }
   ],
   "source": [
    "np.array(a).std(ddof=1)"
   ]
  },
  {
   "cell_type": "markdown",
   "metadata": {},
   "source": [
    "## Задача 2\n",
    "\n",
    "Для выборки из задачи 1 найти (также без использования библиотек):\n",
    "1. медиану, первый и третий квартили, интерквартильное расстояние,\n",
    "2. выборсы в выборке (используя для этого метод как при построении \"усов\" из boxplot).\n",
    "\n",
    "Возможные неоднозначности в вычислении квантилей можно разрешать любым способом."
   ]
  },
  {
   "cell_type": "markdown",
   "metadata": {},
   "source": [
    "================================================================================================================"
   ]
  },
  {
   "cell_type": "code",
   "execution_count": 26,
   "metadata": {},
   "outputs": [],
   "source": [
    "def my_quantile(input: (list, tuple, set), quantile=0.5):\n",
    "    \"\"\"\n",
    "    без интерполяции, выбор квантили только из предоставленного массива\n",
    "    \"\"\"\n",
    "    if isinstance(input, (list, tuple, set)):\n",
    "        if 0 < quantile <= 1:\n",
    "            if len(input) * quantile == 0:\n",
    "                return 0\n",
    "            else:\n",
    "                input = sorted(input)\n",
    "                index_of_element = int(len(input) * quantile)\n",
    "                return input[index_of_element]\n",
    "        else:\n",
    "            prine(\"Quantile must be in range (0, 1]\")\n",
    "    else:\n",
    "        print(\"This is inappropriate input\")"
   ]
  },
  {
   "cell_type": "code",
   "execution_count": 27,
   "metadata": {},
   "outputs": [
    {
     "data": {
      "text/plain": [
       "70"
      ]
     },
     "execution_count": 27,
     "metadata": {},
     "output_type": "execute_result"
    }
   ],
   "source": [
    "my_quantile(a)"
   ]
  },
  {
   "cell_type": "code",
   "execution_count": 29,
   "metadata": {},
   "outputs": [
    {
     "data": {
      "text/plain": [
       "70.0"
      ]
     },
     "execution_count": 29,
     "metadata": {},
     "output_type": "execute_result"
    }
   ],
   "source": [
    "np.quantile(np.array(a), q=0.5)"
   ]
  },
  {
   "cell_type": "markdown",
   "metadata": {},
   "source": [
    "Собственно реализация вроде рабочая, хотя ответ моет отличаться, потому что мой алгоритм выдает только значения, которые находятся непосредственно в выборке. Найдем далее межквартильный размах"
   ]
  },
  {
   "cell_type": "code",
   "execution_count": 32,
   "metadata": {},
   "outputs": [
    {
     "data": {
      "text/plain": [
       "39"
      ]
     },
     "execution_count": 32,
     "metadata": {},
     "output_type": "execute_result"
    }
   ],
   "source": [
    "my_quantile(a, 0.75) - my_quantile(a, 0.25)"
   ]
  },
  {
   "cell_type": "code",
   "execution_count": 33,
   "metadata": {},
   "outputs": [
    {
     "data": {
      "text/plain": [
       "39.0"
      ]
     },
     "execution_count": 33,
     "metadata": {},
     "output_type": "execute_result"
    }
   ],
   "source": [
    "np.quantile(np.array(a), q=0.75) - np.quantile(np.array(a), q=0.25)"
   ]
  },
  {
   "cell_type": "markdown",
   "metadata": {},
   "source": [
    "С нампаем сходиться.....уже хорошо))  Выбросы будем оценивать как первая квантиль минус полтора межквартильных размаха и третья квантиль плюс полтора межквартильных размаха....и все что не входит в этот интервал будем признавать выбросом"
   ]
  },
  {
   "cell_type": "code",
   "execution_count": 34,
   "metadata": {},
   "outputs": [],
   "source": [
    "a_emissions = []\n",
    "for el in a:\n",
    "    lower_border = my_quantile(a, 0.25) - (my_quantile(a, 0.75) - my_quantile(a, 0.25)) * 1.5\n",
    "    upper_boder = my_quantile(a, 0.27) + (my_quantile(a, 0.75) - my_quantile(a, 0.25)) * 1.5\n",
    "    if not (lower_border <= el <= upper_boder):\n",
    "        a_emissions.append(el)"
   ]
  },
  {
   "cell_type": "code",
   "execution_count": 35,
   "metadata": {},
   "outputs": [
    {
     "data": {
      "text/plain": [
       "[230, 150]"
      ]
     },
     "execution_count": 35,
     "metadata": {},
     "output_type": "execute_result"
    }
   ],
   "source": [
    "a_emissions"
   ]
  },
  {
   "cell_type": "markdown",
   "metadata": {},
   "source": [
    "Ну собственно выбросы получились только верхние....потому что нижняя граница по расчету скорее всего в отрицательной зоне оказалась"
   ]
  },
  {
   "cell_type": "code",
   "execution_count": 36,
   "metadata": {},
   "outputs": [
    {
     "data": {
      "text/plain": [
       "-13.5"
      ]
     },
     "execution_count": 36,
     "metadata": {},
     "output_type": "execute_result"
    }
   ],
   "source": [
    "my_quantile(a, 0.25) - (my_quantile(a, 0.75) - my_quantile(a, 0.25)) * 1.5"
   ]
  },
  {
   "cell_type": "markdown",
   "metadata": {},
   "source": [
    "======================================================================================================================"
   ]
  },
  {
   "cell_type": "markdown",
   "metadata": {},
   "source": [
    "## Задача 3\n",
    "\n",
    "В университет на факультет A поступило 100 человек, на факультет B - 90 человек и на факультет C - 45 человек. Вероятность того, что студент с факультета A сдаст первую сессию, равна 0.6. Для студента с факультета B эта вероятность равна 0.7, а для студента с факультета C - 0.8. Случайным образом выбирается студент, сдавший первую сессию. Какое событие наиболее вероятно:\n",
    "1. студент учится на факультете A,\n",
    "2. студент учится на факультете B,\n",
    "3. студент учится на факультете C?"
   ]
  },
  {
   "cell_type": "markdown",
   "metadata": {},
   "source": [
    "================================================================================================================"
   ]
  },
  {
   "cell_type": "markdown",
   "metadata": {},
   "source": [
    "В данной задаче речь идет о наступлении события А при наступлении события В. Для нас событием А является поступление студента на однин из трех факультетов. А событием В то, что сдал ли он первую сессию или нет. В числителе нам необходимо учитывать вероятность успешной сдачи сессии студента с одного из трех факультетов умноженную на вероятность поступить на соответсвующий факультет. А в знаменателе общую вероятность сдать экзамены.  Хотя все это будет выражено в человеках, но на выходе будет вероятность)).  Итак общее количество человек, которые сдадут экзамены будет равно:"
   ]
  },
  {
   "cell_type": "code",
   "execution_count": 37,
   "metadata": {},
   "outputs": [],
   "source": [
    "b_total = 100 * 0.6 + 90 * 0.7 + 45 * 0.8"
   ]
  },
  {
   "cell_type": "code",
   "execution_count": 39,
   "metadata": {},
   "outputs": [
    {
     "name": "stdout",
     "output_type": "stream",
     "text": [
      "Вероятность того что случайно выбранный студент, сдавший первую сессию учиться на факультете А равна       '0.160578%'\n",
      "Вероятность того что случайно выбранный студент, сдавший первую сессию учиться на факультете B равна       '0.177974%'\n",
      "Вероятность того что случайно выбранный студент, сдавший первую сессию учиться на факультете А равна       '0.096347%'\n"
     ]
    }
   ],
   "source": [
    "print(f\"Вероятность того что случайно выбранный студент, сдавший первую сессию учиться на факультете А равна \\\n",
    "      '{(100/(100+90+45) * 0.6) / b_total:%}'\")\n",
    "print(f\"Вероятность того что случайно выбранный студент, сдавший первую сессию учиться на факультете B равна \\\n",
    "      '{(95/(100+90+45) * 0.7) / b_total:%}'\")\n",
    "print(f\"Вероятность того что случайно выбранный студент, сдавший первую сессию учиться на факультете А равна \\\n",
    "      '{(45/(100+90+45) * 0.8) / b_total:%}'\")"
   ]
  },
  {
   "cell_type": "code",
   "execution_count": null,
   "metadata": {},
   "outputs": [],
   "source": []
  }
 ],
 "metadata": {
  "kernelspec": {
   "display_name": "Python 3",
   "language": "python",
   "name": "python3"
  },
  "language_info": {
   "codemirror_mode": {
    "name": "ipython",
    "version": 3
   },
   "file_extension": ".py",
   "mimetype": "text/x-python",
   "name": "python",
   "nbconvert_exporter": "python",
   "pygments_lexer": "ipython3",
   "version": "3.8.5"
  }
 },
 "nbformat": 4,
 "nbformat_minor": 4
}
